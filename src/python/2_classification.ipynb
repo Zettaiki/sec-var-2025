{
  "cells": [
    {
      "cell_type": "markdown",
      "id": "0de74b11",
      "metadata": {
        "id": "0de74b11"
      },
      "source": [
        "# Segmentazione di edifici da immagini satellitari e classificazione del contesto urbano: notebook per classificazione di immagini\n",
        "\n",
        "*Progetto di Visione Artificiale e Riconoscimento 2024/2025*\n",
        "\n",
        "- **Nome:** Pablo Sebastian\n",
        "- **Cognome:** Vargas Grateron\n",
        "- **Email:** pablo.vargasgrateron@studio.unibo.it"
      ]
    },
    {
      "cell_type": "markdown",
      "id": "b528ea2d",
      "metadata": {
        "id": "b528ea2d"
      },
      "source": [
        "Questo progetto si concentra sulla segmentazione di edifici da immagini satellitari e sulla classificazione del contesto urbano. Utilizza tecniche di deep learning per analizzare immagini aeree e identificare edifici e altre strutture urbane."
      ]
    },
    {
      "cell_type": "markdown",
      "id": "14ebd8bb",
      "metadata": {
        "id": "14ebd8bb"
      },
      "source": [
        "Il dataset utilizzato è il dataset [Inria Aerial Image Labeling](https://project.inria.fr/aerialimagelabeling/), che contiene immagini aeree ad alta risoluzione e le relative maschere di segmentazione degli edifici.\n",
        "\n",
        "> Assicurati di scaricare il dataset prima di eseguire il notebook e di avere al meno 50 GB di spazio libero su disco."
      ]
    },
    {
      "cell_type": "markdown",
      "id": "fc781cfe",
      "metadata": {
        "id": "fc781cfe"
      },
      "source": [
        "## Librerie e percorsi dei dataset"
      ]
    },
    {
      "cell_type": "markdown",
      "id": "54d36f17",
      "metadata": {
        "id": "54d36f17"
      },
      "source": [
        "Il codice contenuto nelle seguenti celle importa le librerie necessarie e definisce i percorsi per i dataset utilizzati nel progetto.\n",
        "\n",
        "> Assicurati di avere installato le librerie richieste contenute nel file `requirements.txt` prima di eseguire il notebook."
      ]
    },
    {
      "cell_type": "code",
      "execution_count": 1,
      "id": "ad222698",
      "metadata": {
        "id": "ad222698"
      },
      "outputs": [],
      "source": [
        "import os, time, random\n",
        "from pathlib import Path\n",
        "from PIL import Image\n",
        "import matplotlib.pyplot as plt\n",
        "import numpy as np\n",
        "from tensorflow import keras\n",
        "import tensorflow.keras.backend as K\n",
        "from scipy import ndimage\n",
        "from scipy.spatial import distance, distance_matrix\n",
        "from sklearn.cluster import KMeans\n",
        "from sklearn.preprocessing import StandardScaler"
      ]
    },
    {
      "cell_type": "markdown",
      "id": "e566344c",
      "metadata": {
        "id": "e566344c"
      },
      "source": [
        "Per la prossima cella, assicurati di avere i seguenti percorsi impostati correttamente:\n",
        "- `PATH_DATASET_DIR`: percorso alla cartella principale dove sono memorizzati i dataset.\n",
        "- `PATH_DATASET`: percorso alla cartella contenente i dataset originali.\n",
        "- `PATH_PROCESSED_DATASET`: percorso alla cartella dove saranno memorizzati i dataset elaborati.\n",
        "- `PATH_MODEL`: percorso alla cartella dove sarà memorizzato il modello addestrato."
      ]
    },
    {
      "cell_type": "code",
      "execution_count": 2,
      "id": "83ab6bc0",
      "metadata": {
        "id": "83ab6bc0"
      },
      "outputs": [],
      "source": [
        "PATH_DATASET_DIR = Path(\"../../dataset\")\n",
        "PATH_PROCESSED_DATASET = PATH_DATASET_DIR / \"processed\"\n",
        "\n",
        "PATH_TRAIN_DATASET_PROCESSED = PATH_PROCESSED_DATASET / \"train\"\n",
        "PATH_TEST_DATASET_PROCESSED = PATH_PROCESSED_DATASET / \"test\"\n",
        "\n",
        "PATH_MODEL = Path(\"model\") / \"UnetWSatellite.keras\""
      ]
    },
    {
      "cell_type": "markdown",
      "id": "9vcEpgeAUcb5",
      "metadata": {
        "id": "9vcEpgeAUcb5"
      },
      "source": [
        "## Setup: caricamento del modello e processing delle immagini"
      ]
    },
    {
      "cell_type": "markdown",
      "id": "019cfd72",
      "metadata": {
        "id": "019cfd72"
      },
      "source": [
        "Per utilizzare il modello addestrato, è necessario caricarlo e preparare le immagini per la classificazione. Nella seguente cella, eseguiamo queste operazioni.\n",
        "\n",
        "> Per procedere, assicurati di avere il modello addestrato nel primo notebook `1_model_training.ipynb`."
      ]
    },
    {
      "cell_type": "code",
      "execution_count": 6,
      "id": "1ffdce31",
      "metadata": {
        "id": "1ffdce31"
      },
      "outputs": [],
      "source": [
        "JACCARD_INDEX_SMOOTH = 1e-12\n",
        "\n",
        "def jaccard_index(y_true, y_pred):\n",
        "    intersection = K.sum(y_true * y_pred, axis=[0, -1, -2])\n",
        "    sum_ = K.sum(y_true + y_pred, axis=[0, -1, -2])\n",
        "    jac = (intersection + JACCARD_INDEX_SMOOTH) / (sum_ - intersection + JACCARD_INDEX_SMOOTH)\n",
        "    return K.mean(jac)"
      ]
    },
    {
      "cell_type": "code",
      "execution_count": 10,
      "id": "pz48qkmwUCFw",
      "metadata": {
        "id": "pz48qkmwUCFw"
      },
      "outputs": [],
      "source": [
        "dependencies = {'jaccard_index': jaccard_index}\n",
        "loaded_model=keras.models.load_model(PATH_MODEL, custom_objects=dependencies)"
      ]
    },
    {
      "cell_type": "markdown",
      "id": "d0223f42",
      "metadata": {
        "id": "d0223f42"
      },
      "source": [
        "### Individuazione della soglia binaria per la segmentazione"
      ]
    },
    {
      "cell_type": "markdown",
      "id": "0845f9db",
      "metadata": {
        "id": "0845f9db"
      },
      "source": [
        "Prima di classificare le immagini, è importante trovare la soglia ottimale per la segmentazione. Questa soglia può essere trovata utilizzando la funzione `find_best_threshold_from_paths` definita nella seguente cella. Questa funzione esegue una ricerca della soglia ottimale su un campione di immagini e maschere.\n",
        "\n",
        "> **ATTENZIONE:** L'analisi prevede l'uso intensivo del modello, quindi è consigliabile eseguire questa operazione su un campione ridotto di dati per risparmiare tempo e risorse o utilizzare un ambiente di calcolo più potente."
      ]
    },
    {
      "cell_type": "code",
      "execution_count": 11,
      "id": "R0idrsqWytQy",
      "metadata": {
        "id": "R0idrsqWytQy"
      },
      "outputs": [],
      "source": [
        "def find_best_threshold_from_paths(model, images_path, masks_path, sample_ratio=0.1, thresholds=np.arange(0.1, 1.0, 0.05), batch_size=32):\n",
        "\n",
        "    image_files = sorted(list(images_path.glob(\"*.png\")))\n",
        "    mask_files = sorted(list(masks_path.glob(\"*.png\")))\n",
        "\n",
        "    if sample_ratio < 1.0:\n",
        "        sample_size = int(len(image_files) * sample_ratio)\n",
        "        sample_indices = random.sample(range(len(image_files)), sample_size)\n",
        "        image_files = [image_files[i] for i in sample_indices]\n",
        "        mask_files = [mask_files[i] for i in sample_indices]\n",
        "\n",
        "    threshold_scores = {t: [] for t in thresholds}\n",
        "\n",
        "    print(f\"Analisi di {len(image_files)} immagini per trovare la soglia ottimale...\")\n",
        "\n",
        "    for i in range(0, len(image_files), batch_size):\n",
        "        batch_image_files = image_files[i:i + batch_size]\n",
        "        batch_mask_files = mask_files[i:i + batch_size]\n",
        "\n",
        "        batch_images = []\n",
        "        batch_masks = []\n",
        "        valid_batch_indices = []\n",
        "\n",
        "        for j, (img_path, mask_path) in enumerate(zip(batch_image_files, batch_mask_files)):\n",
        "            try:\n",
        "                image = np.array(Image.open(img_path).convert(\"RGB\")) / 255.0\n",
        "                mask = np.array(Image.open(mask_path).convert(\"L\")) / 255.0\n",
        "                mask = mask.astype(np.float32)\n",
        "\n",
        "                batch_images.append(image)\n",
        "                batch_masks.append(mask)\n",
        "                valid_batch_indices.append(j)\n",
        "\n",
        "            except Exception as e:\n",
        "                print(f\"Errore durante il caricamento di {img_path.name}: {e}\")\n",
        "                continue\n",
        "\n",
        "        if not batch_images:\n",
        "            continue\n",
        "\n",
        "        batch_images = np.array(batch_images)\n",
        "        batch_masks = np.array(batch_masks)\n",
        "\n",
        "\n",
        "        try:\n",
        "            predictions = model.predict(batch_images)\n",
        "\n",
        "            for k, original_index in enumerate(valid_batch_indices):\n",
        "                 prediction = predictions[k]\n",
        "\n",
        "                 mask = batch_masks[k]\n",
        "\n",
        "                 for t in thresholds:\n",
        "                    binary_pred = (prediction > t).astype(np.float32)\n",
        "                    if binary_pred.shape != mask.shape:\n",
        "                        binary_pred = np.squeeze(binary_pred)\n",
        "\n",
        "                    if binary_pred.shape == mask.shape:\n",
        "                         score = jaccard_index(np.expand_dims(mask, axis=-1), np.expand_dims(binary_pred, axis=-1)).numpy()\n",
        "                         threshold_scores[t].append(score)\n",
        "                    else:\n",
        "                        print(f\"Shape mismatch: prediction {binary_pred.shape}, mask {mask.shape} for {batch_image_files[original_index].name}. Skipping.\")\n",
        "\n",
        "\n",
        "        except Exception as e:\n",
        "            print(f\"Errore durante la predizione o il calcolo dello score per il batch a partire da {batch_image_files[0].name}: {e}\")\n",
        "            continue\n",
        "\n",
        "\n",
        "    average_scores = {t: np.mean(scores) if scores else 0 for t, scores in threshold_scores.items()}\n",
        "    best_threshold = max(average_scores, key=average_scores.get) if average_scores else 0.5\n",
        "    best_jaccard = average_scores.get(best_threshold, 0)\n",
        "\n",
        "    return best_threshold, best_jaccard"
      ]
    },
    {
      "cell_type": "code",
      "execution_count": 12,
      "id": "49e56c94",
      "metadata": {
        "colab": {
          "base_uri": "https://localhost:8080/"
        },
        "id": "49e56c94",
        "outputId": "2a47982b-f2ba-4a6d-9ec9-235b418fb626"
      },
      "outputs": [
        {
          "name": "stdout",
          "output_type": "stream",
          "text": [
            "Analisi di 1800 immagini per trovare la soglia ottimale...\n",
            "\u001b[1m1/1\u001b[0m \u001b[32m━━━━━━━━━━━━━━━━━━━━\u001b[0m\u001b[37m\u001b[0m \u001b[1m53s\u001b[0m 53s/step\n",
            "\u001b[1m1/1\u001b[0m \u001b[32m━━━━━━━━━━━━━━━━━━━━\u001b[0m\u001b[37m\u001b[0m \u001b[1m1s\u001b[0m 923ms/step\n",
            "\u001b[1m1/1\u001b[0m \u001b[32m━━━━━━━━━━━━━━━━━━━━\u001b[0m\u001b[37m\u001b[0m \u001b[1m1s\u001b[0m 918ms/step\n",
            "\u001b[1m1/1\u001b[0m \u001b[32m━━━━━━━━━━━━━━━━━━━━\u001b[0m\u001b[37m\u001b[0m \u001b[1m1s\u001b[0m 886ms/step\n",
            "\u001b[1m1/1\u001b[0m \u001b[32m━━━━━━━━━━━━━━━━━━━━\u001b[0m\u001b[37m\u001b[0m \u001b[1m1s\u001b[0m 915ms/step\n",
            "\u001b[1m1/1\u001b[0m \u001b[32m━━━━━━━━━━━━━━━━━━━━\u001b[0m\u001b[37m\u001b[0m \u001b[1m1s\u001b[0m 927ms/step\n",
            "\u001b[1m1/1\u001b[0m \u001b[32m━━━━━━━━━━━━━━━━━━━━\u001b[0m\u001b[37m\u001b[0m \u001b[1m1s\u001b[0m 892ms/step\n",
            "\u001b[1m1/1\u001b[0m \u001b[32m━━━━━━━━━━━━━━━━━━━━\u001b[0m\u001b[37m\u001b[0m \u001b[1m1s\u001b[0m 896ms/step\n",
            "\u001b[1m1/1\u001b[0m \u001b[32m━━━━━━━━━━━━━━━━━━━━\u001b[0m\u001b[37m\u001b[0m \u001b[1m1s\u001b[0m 933ms/step\n",
            "\u001b[1m1/1\u001b[0m \u001b[32m━━━━━━━━━━━━━━━━━━━━\u001b[0m\u001b[37m\u001b[0m \u001b[1m1s\u001b[0m 895ms/step\n",
            "\u001b[1m1/1\u001b[0m \u001b[32m━━━━━━━━━━━━━━━━━━━━\u001b[0m\u001b[37m\u001b[0m \u001b[1m1s\u001b[0m 899ms/step\n",
            "\u001b[1m1/1\u001b[0m \u001b[32m━━━━━━━━━━━━━━━━━━━━\u001b[0m\u001b[37m\u001b[0m \u001b[1m1s\u001b[0m 916ms/step\n",
            "\u001b[1m1/1\u001b[0m \u001b[32m━━━━━━━━━━━━━━━━━━━━\u001b[0m\u001b[37m\u001b[0m \u001b[1m1s\u001b[0m 912ms/step\n",
            "\u001b[1m1/1\u001b[0m \u001b[32m━━━━━━━━━━━━━━━━━━━━\u001b[0m\u001b[37m\u001b[0m \u001b[1m1s\u001b[0m 917ms/step\n",
            "\u001b[1m1/1\u001b[0m \u001b[32m━━━━━━━━━━━━━━━━━━━━\u001b[0m\u001b[37m\u001b[0m \u001b[1m1s\u001b[0m 937ms/step\n",
            "\u001b[1m1/1\u001b[0m \u001b[32m━━━━━━━━━━━━━━━━━━━━\u001b[0m\u001b[37m\u001b[0m \u001b[1m1s\u001b[0m 945ms/step\n",
            "\u001b[1m1/1\u001b[0m \u001b[32m━━━━━━━━━━━━━━━━━━━━\u001b[0m\u001b[37m\u001b[0m \u001b[1m1s\u001b[0m 916ms/step\n",
            "\u001b[1m1/1\u001b[0m \u001b[32m━━━━━━━━━━━━━━━━━━━━\u001b[0m\u001b[37m\u001b[0m \u001b[1m1s\u001b[0m 930ms/step\n",
            "\u001b[1m1/1\u001b[0m \u001b[32m━━━━━━━━━━━━━━━━━━━━\u001b[0m\u001b[37m\u001b[0m \u001b[1m1s\u001b[0m 973ms/step\n",
            "\u001b[1m1/1\u001b[0m \u001b[32m━━━━━━━━━━━━━━━━━━━━\u001b[0m\u001b[37m\u001b[0m \u001b[1m1s\u001b[0m 939ms/step\n",
            "\u001b[1m1/1\u001b[0m \u001b[32m━━━━━━━━━━━━━━━━━━━━\u001b[0m\u001b[37m\u001b[0m \u001b[1m1s\u001b[0m 903ms/step\n",
            "\u001b[1m1/1\u001b[0m \u001b[32m━━━━━━━━━━━━━━━━━━━━\u001b[0m\u001b[37m\u001b[0m \u001b[1m1s\u001b[0m 934ms/step\n",
            "\u001b[1m1/1\u001b[0m \u001b[32m━━━━━━━━━━━━━━━━━━━━\u001b[0m\u001b[37m\u001b[0m \u001b[1m1s\u001b[0m 915ms/step\n",
            "\u001b[1m1/1\u001b[0m \u001b[32m━━━━━━━━━━━━━━━━━━━━\u001b[0m\u001b[37m\u001b[0m \u001b[1m1s\u001b[0m 922ms/step\n",
            "\u001b[1m1/1\u001b[0m \u001b[32m━━━━━━━━━━━━━━━━━━━━\u001b[0m\u001b[37m\u001b[0m \u001b[1m1s\u001b[0m 918ms/step\n",
            "\u001b[1m1/1\u001b[0m \u001b[32m━━━━━━━━━━━━━━━━━━━━\u001b[0m\u001b[37m\u001b[0m \u001b[1m1s\u001b[0m 948ms/step\n",
            "\u001b[1m1/1\u001b[0m \u001b[32m━━━━━━━━━━━━━━━━━━━━\u001b[0m\u001b[37m\u001b[0m \u001b[1m1s\u001b[0m 896ms/step\n",
            "\u001b[1m1/1\u001b[0m \u001b[32m━━━━━━━━━━━━━━━━━━━━\u001b[0m\u001b[37m\u001b[0m \u001b[1m1s\u001b[0m 887ms/step\n",
            "\u001b[1m1/1\u001b[0m \u001b[32m━━━━━━━━━━━━━━━━━━━━\u001b[0m\u001b[37m\u001b[0m \u001b[1m1s\u001b[0m 952ms/step\n",
            "\u001b[1m1/1\u001b[0m \u001b[32m━━━━━━━━━━━━━━━━━━━━\u001b[0m\u001b[37m\u001b[0m \u001b[1m1s\u001b[0m 931ms/step\n",
            "\u001b[1m1/1\u001b[0m \u001b[32m━━━━━━━━━━━━━━━━━━━━\u001b[0m\u001b[37m\u001b[0m \u001b[1m1s\u001b[0m 896ms/step\n",
            "\u001b[1m1/1\u001b[0m \u001b[32m━━━━━━━━━━━━━━━━━━━━\u001b[0m\u001b[37m\u001b[0m \u001b[1m1s\u001b[0m 925ms/step\n",
            "\u001b[1m1/1\u001b[0m \u001b[32m━━━━━━━━━━━━━━━━━━━━\u001b[0m\u001b[37m\u001b[0m \u001b[1m1s\u001b[0m 907ms/step\n",
            "\u001b[1m1/1\u001b[0m \u001b[32m━━━━━━━━━━━━━━━━━━━━\u001b[0m\u001b[37m\u001b[0m \u001b[1m1s\u001b[0m 922ms/step\n",
            "\u001b[1m1/1\u001b[0m \u001b[32m━━━━━━━━━━━━━━━━━━━━\u001b[0m\u001b[37m\u001b[0m \u001b[1m1s\u001b[0m 914ms/step\n",
            "\u001b[1m1/1\u001b[0m \u001b[32m━━━━━━━━━━━━━━━━━━━━\u001b[0m\u001b[37m\u001b[0m \u001b[1m1s\u001b[0m 934ms/step\n",
            "\u001b[1m1/1\u001b[0m \u001b[32m━━━━━━━━━━━━━━━━━━━━\u001b[0m\u001b[37m\u001b[0m \u001b[1m1s\u001b[0m 934ms/step\n",
            "\u001b[1m1/1\u001b[0m \u001b[32m━━━━━━━━━━━━━━━━━━━━\u001b[0m\u001b[37m\u001b[0m \u001b[1m1s\u001b[0m 904ms/step\n",
            "\u001b[1m1/1\u001b[0m \u001b[32m━━━━━━━━━━━━━━━━━━━━\u001b[0m\u001b[37m\u001b[0m \u001b[1m1s\u001b[0m 907ms/step\n",
            "\u001b[1m1/1\u001b[0m \u001b[32m━━━━━━━━━━━━━━━━━━━━\u001b[0m\u001b[37m\u001b[0m \u001b[1m1s\u001b[0m 920ms/step\n",
            "\u001b[1m1/1\u001b[0m \u001b[32m━━━━━━━━━━━━━━━━━━━━\u001b[0m\u001b[37m\u001b[0m \u001b[1m1s\u001b[0m 895ms/step\n",
            "\u001b[1m1/1\u001b[0m \u001b[32m━━━━━━━━━━━━━━━━━━━━\u001b[0m\u001b[37m\u001b[0m \u001b[1m1s\u001b[0m 909ms/step\n",
            "\u001b[1m1/1\u001b[0m \u001b[32m━━━━━━━━━━━━━━━━━━━━\u001b[0m\u001b[37m\u001b[0m \u001b[1m1s\u001b[0m 917ms/step\n",
            "\u001b[1m1/1\u001b[0m \u001b[32m━━━━━━━━━━━━━━━━━━━━\u001b[0m\u001b[37m\u001b[0m \u001b[1m1s\u001b[0m 922ms/step\n",
            "\u001b[1m1/1\u001b[0m \u001b[32m━━━━━━━━━━━━━━━━━━━━\u001b[0m\u001b[37m\u001b[0m \u001b[1m1s\u001b[0m 910ms/step\n",
            "\u001b[1m1/1\u001b[0m \u001b[32m━━━━━━━━━━━━━━━━━━━━\u001b[0m\u001b[37m\u001b[0m \u001b[1m1s\u001b[0m 933ms/step\n",
            "\u001b[1m1/1\u001b[0m \u001b[32m━━━━━━━━━━━━━━━━━━━━\u001b[0m\u001b[37m\u001b[0m \u001b[1m1s\u001b[0m 897ms/step\n",
            "\u001b[1m1/1\u001b[0m \u001b[32m━━━━━━━━━━━━━━━━━━━━\u001b[0m\u001b[37m\u001b[0m \u001b[1m1s\u001b[0m 931ms/step\n",
            "\u001b[1m1/1\u001b[0m \u001b[32m━━━━━━━━━━━━━━━━━━━━\u001b[0m\u001b[37m\u001b[0m \u001b[1m1s\u001b[0m 925ms/step\n",
            "\u001b[1m1/1\u001b[0m \u001b[32m━━━━━━━━━━━━━━━━━━━━\u001b[0m\u001b[37m\u001b[0m \u001b[1m1s\u001b[0m 931ms/step\n",
            "\u001b[1m1/1\u001b[0m \u001b[32m━━━━━━━━━━━━━━━━━━━━\u001b[0m\u001b[37m\u001b[0m \u001b[1m1s\u001b[0m 941ms/step\n",
            "\u001b[1m1/1\u001b[0m \u001b[32m━━━━━━━━━━━━━━━━━━━━\u001b[0m\u001b[37m\u001b[0m \u001b[1m1s\u001b[0m 911ms/step\n",
            "\u001b[1m1/1\u001b[0m \u001b[32m━━━━━━━━━━━━━━━━━━━━\u001b[0m\u001b[37m\u001b[0m \u001b[1m1s\u001b[0m 922ms/step\n",
            "\u001b[1m1/1\u001b[0m \u001b[32m━━━━━━━━━━━━━━━━━━━━\u001b[0m\u001b[37m\u001b[0m \u001b[1m1s\u001b[0m 921ms/step\n",
            "\u001b[1m1/1\u001b[0m \u001b[32m━━━━━━━━━━━━━━━━━━━━\u001b[0m\u001b[37m\u001b[0m \u001b[1m1s\u001b[0m 915ms/step\n",
            "\u001b[1m1/1\u001b[0m \u001b[32m━━━━━━━━━━━━━━━━━━━━\u001b[0m\u001b[37m\u001b[0m \u001b[1m1s\u001b[0m 1000ms/step\n",
            "\u001b[1m1/1\u001b[0m \u001b[32m━━━━━━━━━━━━━━━━━━━━\u001b[0m\u001b[37m\u001b[0m \u001b[1m19s\u001b[0m 19s/step\n"
          ]
        }
      ],
      "source": [
        "best_th, best_jaccard = find_best_threshold_from_paths(\n",
        "    loaded_model,\n",
        "    PATH_TRAIN_DATASET_PROCESSED / \"images\",\n",
        "    PATH_TRAIN_DATASET_PROCESSED / \"gt\",\n",
        "    sample_ratio=0.1\n",
        ")"
      ]
    },
    {
      "cell_type": "code",
      "execution_count": 13,
      "id": "4ec12003",
      "metadata": {
        "colab": {
          "base_uri": "https://localhost:8080/"
        },
        "id": "4ec12003",
        "outputId": "d1a909a6-96bd-481d-bebc-f00f3b7a406e"
      },
      "outputs": [
        {
          "name": "stdout",
          "output_type": "stream",
          "text": [
            "Best threshold: 0.6000000000000002\n",
            "Best jaccard index: 0.76137996\n"
          ]
        }
      ],
      "source": [
        "print(\"Best threshold:\", best_th)\n",
        "print(\"Best jaccard index:\", best_jaccard)"
      ]
    },
    {
      "cell_type": "markdown",
      "id": "1636c1b1",
      "metadata": {
        "id": "1636c1b1"
      },
      "source": [
        "Adesso che abbiamo la soglia ottimale, possiamo utilizzarla per segmentare le immagini nel nostro set di dati. Utilizzeremo la funzione `segment_images_with_threshold` per applicare la soglia e ottenere le maschere segmentate."
      ]
    },
    {
      "cell_type": "code",
      "execution_count": null,
      "id": "5283ddbd",
      "metadata": {
        "id": "5283ddbd"
      },
      "outputs": [],
      "source": [
        "def segment_image_with_threshold(image_path, model, threshold):\n",
        "    image = np.array(Image.open(image_path).convert(\"RGB\"))\n",
        "    prediction = model.predict(np.expand_dims(image, axis=0))\n",
        "    binary_prediction = (prediction > threshold).astype(np.float32)\n",
        "    return binary_prediction"
      ]
    },
    {
      "cell_type": "markdown",
      "id": "28fb823e",
      "metadata": {
        "id": "28fb823e"
      },
      "source": [
        "## Classificatore delle maschere"
      ]
    },
    {
      "cell_type": "markdown",
      "id": "beb112e7",
      "metadata": {
        "id": "beb112e7"
      },
      "source": [
        "Per la classificazione di questo progetto, useremo un approccio euristico basato su alcune caratteristiche estratte dalle maschere. Le caratteristiche considerate includono:\n",
        "\n",
        "1. **Densità di occupazione**: La proporzione di pixel attivi nella maschera.\n",
        "2. **Numero di oggetti**: Il numero di componenti connessi identificati nella maschera.\n",
        "3. **Distanza media tra gli oggetti**: La distanza media tra i centroidi degli oggetti identificati.\n",
        "\n",
        "Utilizzeremo queste caratteristiche per classificare ogni tile come \"urbano\" o \"rurale\" in base a soglie predefinite."
      ]
    },
    {
      "cell_type": "code",
      "execution_count": 26,
      "id": "9359133e",
      "metadata": {
        "id": "9359133e"
      },
      "outputs": [],
      "source": [
        "def feature_extraction(mask):\n",
        "    mask = (mask > 0).astype(np.uint8)\n",
        "\n",
        "    density = np.sum(mask) / mask.size\n",
        "    labeled, num_obj = ndimage.label(mask)\n",
        "    centroids = []\n",
        "    for i in range(1, num_obj+1):\n",
        "        coords = np.argwhere(labeled == i)\n",
        "        if coords.size > 0:\n",
        "            centroids.append(coords.mean(axis=0))\n",
        "\n",
        "    nearest_neighbor_distance = 0\n",
        "    if len(centroids) > 1:\n",
        "        DM = distance_matrix(centroids, centroids)\n",
        "        np.fill_diagonal(DM, np.inf)\n",
        "        nearest_distances = DM.min(axis=1)\n",
        "        nearest_neighbor_distance = np.mean(nearest_distances)\n",
        "\n",
        "    return density, num_obj, nearest_neighbor_distance"
      ]
    },
    {
      "cell_type": "markdown",
      "id": "7eac11fe",
      "metadata": {
        "id": "7eac11fe"
      },
      "source": [
        "Prima di determinare le soglie per la classificazione, è importante analizzare un campione rappresentativo di maschere e le loro caratteristiche estratte. Questo ci permetterà di stabilire soglie che siano adeguate e significative per il nostro dataset.\n",
        "\n",
        "Useremo il training set per analizzare le caratteristiche delle maschere e definire le soglie."
      ]
    },
    {
      "cell_type": "code",
      "execution_count": 28,
      "id": "fe3beae1",
      "metadata": {
        "id": "fe3beae1"
      },
      "outputs": [],
      "source": [
        "def analyze_feature_statistics(masks_path, sample_ratio=0.1):\n",
        "\n",
        "    mask_files = sorted(list(masks_path.glob(\"*.png\")))\n",
        "\n",
        "    if sample_ratio < 1.0:\n",
        "        sample_size = int(len(mask_files) * sample_ratio)\n",
        "        sample_indices = random.sample(range(len(mask_files)), sample_size)\n",
        "        mask_files = [mask_files[i] for i in sample_indices]\n",
        "\n",
        "    densities = []\n",
        "    num_objs = []\n",
        "    avg_distances = []\n",
        "\n",
        "    print(f\"Analisi delle statistiche delle feature per {len(mask_files)} maschere...\")\n",
        "\n",
        "    for mask_file in mask_files:\n",
        "        try:\n",
        "            mask = np.array(Image.open(mask_file).convert(\"L\")) / 255.0\n",
        "            mask = mask.astype(np.float32)\n",
        "\n",
        "            density, num_obj, average_distance_obj = feature_extraction(mask)\n",
        "\n",
        "            densities.append(density)\n",
        "            num_objs.append(num_obj)\n",
        "            avg_distances.append(average_distance_obj)\n",
        "\n",
        "        except Exception as e:\n",
        "            print(f\"Errore durante il caricamento o l'estrazione delle feature per {mask_file.name}: {e}\")\n",
        "            continue\n",
        "\n",
        "    # Plotting the statistics\n",
        "    plt.figure(figsize=(18, 5))\n",
        "\n",
        "    plt.subplot(1, 3, 1)\n",
        "    plt.hist(densities, bins=50, color='skyblue', edgecolor='black')\n",
        "    plt.title('Distribuzione della Densità')\n",
        "    plt.xlabel('Densità')\n",
        "    plt.ylabel('Frequenza')\n",
        "\n",
        "    plt.subplot(1, 3, 2)\n",
        "    plt.hist(num_objs, bins=50, color='lightcoral', edgecolor='black')\n",
        "    plt.title('Distribuzione del Numero di Oggetti')\n",
        "    plt.xlabel('Numero di Oggetti')\n",
        "    plt.ylabel('Frequenza')\n",
        "    plt.yscale('log')\n",
        "\n",
        "    plt.subplot(1, 3, 3)\n",
        "    plt.hist(avg_distances, bins=50, color='lightgreen', edgecolor='black')\n",
        "    plt.title('Distribuzione della Distanza Media tra gli Oggetti')\n",
        "    plt.xlabel('Distanza Media')\n",
        "    plt.ylabel('Frequenza')\n",
        "\n",
        "    plt.tight_layout()\n",
        "    plt.show()\n",
        "\n",
        "    print(\"\\nStatistiche riassuntive:\")\n",
        "    print(f\"Densità: Media={np.mean(densities):.4f}, Mediana={np.median(densities):.4f}, Std={np.std(densities):.4f}, Min={np.min(densities):.4f}, Max={np.max(densities):.4f}\")\n",
        "    print(f\"Numero di Oggetti: Media={np.mean(num_objs):.4f}, Mediana={np.median(num_objs):.4f}, Std={np.std(num_objs):.4f}, Min={np.min(num_objs):.4f}, Max={np.max(num_objs):.4f}\")\n",
        "    print(f\"Distanza Media tra gli Oggetti: Media={np.mean(avg_distances):.4f}, Mediana={np.median(avg_distances):.4f}, Std={np.std(avg_distances):.4f}, Min={np.min(avg_distances):.4f}, Max={np.max(avg_distances):.4f}\")"
      ]
    },
    {
      "cell_type": "code",
      "execution_count": 29,
      "id": "CsoeJN5TcY4F",
      "metadata": {
        "colab": {
          "base_uri": "https://localhost:8080/",
          "height": 456
        },
        "id": "CsoeJN5TcY4F",
        "outputId": "00f4ae19-4f66-4bf5-99a8-18e380572369"
      },
      "outputs": [
        {
          "name": "stdout",
          "output_type": "stream",
          "text": [
            "Analisi delle statistiche delle feature per 1800 maschere...\n"
          ]
        },
        {
          "data": {
            "image/png": "[encoded data removed]",
            "text/plain": [
              "<Figure size 1800x500 with 3 Axes>"
            ]
          },
          "metadata": {},
          "output_type": "display_data"
        },
        {
          "name": "stdout",
          "output_type": "stream",
          "text": [
            "\n",
            "Statistiche riassuntive:\n",
            "Densità: Media=0.1518, Mediana=0.1138, Std=0.1588, Min=0.0000, Max=0.8276\n",
            "Numero di Oggetti: Media=14.1128, Mediana=7.0000, Std=19.0013, Min=0.0000, Max=117.0000\n",
            "Distanza Media tra gli Oggetti: Media=78.1057, Mediana=62.8732, Std=81.5691, Min=0.0000, Max=610.5142\n"
          ]
        }
      ],
      "source": [
        "analyze_feature_statistics(PATH_TRAIN_DATASET_PROCESSED / \"gt\", sample_ratio=0.1)"
      ]
    },
    {
      "cell_type": "markdown",
      "id": "d42ea05f",
      "metadata": {},
      "source": [
        "Invece di determinare la soglia ottimale in forma approssimativa, possiamo utilizzare un approccio più rigoroso basato sull'analisi dei dati. In questo caso useremo un algoritmo di clustering con K-means per identificare la soglia ottimale.\n",
        "\n",
        "L'algoritmo K-means ci permette di raggruppare i dati in cluster e di identificare i punti centrali di questi cluster. Applicando K-means ai valori delle predizioni del modello, possiamo trovare la soglia che separa le classi in modo ottimale."
      ]
    },
    {
      "cell_type": "code",
      "execution_count": 31,
      "id": "ffodOWrxeNER",
      "metadata": {
        "id": "ffodOWrxeNER"
      },
      "outputs": [],
      "source": [
        "def find_thresholds_with_kmeans(masks_path, sample_ratio=0.1):\n",
        "    mask_files = sorted(list(masks_path.glob(\"*.png\")))\n",
        "\n",
        "    # Selezione campione\n",
        "    if sample_ratio < 1.0:\n",
        "        sample_size = int(len(mask_files) * sample_ratio)\n",
        "        sample_indices = random.sample(range(len(mask_files)), sample_size)\n",
        "        mask_files = [mask_files[i] for i in sample_indices]\n",
        "\n",
        "    features = []\n",
        "    print(f\"Estrazione delle feature per K-Means da {len(mask_files)} maschere...\")\n",
        "\n",
        "    for mask_file in mask_files:\n",
        "        try:\n",
        "            mask = np.array(Image.open(mask_file).convert(\"L\")) / 255.0\n",
        "            mask = mask.astype(np.float32)\n",
        "\n",
        "            density, num_obj, avg_distance = feature_extraction(mask)\n",
        "            features.append([density, num_obj, avg_distance])\n",
        "\n",
        "        except Exception as e:\n",
        "            print(f\"Errore durante il caricamento o l'estrazione delle feature per {mask_file.name}: {e}\")\n",
        "            continue\n",
        "\n",
        "    if not features:\n",
        "        print(\"Nessuna feature estratta. Impossibile eseguire K-Means.\")\n",
        "        return None\n",
        "\n",
        "    # Normalizzazione per KMeans\n",
        "    features = np.array(features)\n",
        "    scaler = StandardScaler()\n",
        "    scaled_features = scaler.fit_transform(features)\n",
        "\n",
        "    # Clustering\n",
        "    kmeans = KMeans(n_clusters=2, random_state=42, n_init=\"auto\")\n",
        "    kmeans.fit(scaled_features)\n",
        "    centroids = scaler.inverse_transform(kmeans.cluster_centers_)\n",
        "\n",
        "    print(\"\\nCentroidi dei cluster (feature originali):\")\n",
        "    for i, c in enumerate(centroids):\n",
        "        print(f\"Cluster {i}: Densità={c[0]:.4f}, Numero Oggetti={c[1]:.4f}, Distanza Media={c[2]:.4f}\")\n",
        "\n",
        "    # Identificazione euristica urbano/rurale\n",
        "    if (centroids[0][0] + centroids[0][1]) < (centroids[1][0] + centroids[1][1]):\n",
        "        rural_cluster_centroid = centroids[0]\n",
        "        urban_cluster_centroid = centroids[1]\n",
        "    else:\n",
        "        rural_cluster_centroid = centroids[1]\n",
        "        urban_cluster_centroid = centroids[0]\n",
        "\n",
        "    print(\"\\nCluster 'Rurale' (probabile): \"\n",
        "          f\"Densità={rural_cluster_centroid[0]:.4f}, Numero Oggetti={rural_cluster_centroid[1]:.4f}, Distanza Media={rural_cluster_centroid[2]:.4f}\")\n",
        "    print(\"Cluster 'Urbano' (probabile): \"\n",
        "          f\"Densità={urban_cluster_centroid[0]:.4f}, Numero Oggetti={urban_cluster_centroid[1]:.4f}, Distanza Media={urban_cluster_centroid[2]:.4f}\")\n",
        "\n",
        "    # Calcolo soglie come punto medio tra i due centroidi\n",
        "    suggested_threshold_density = (rural_cluster_centroid[0] + urban_cluster_centroid[0]) / 2\n",
        "    suggested_threshold_num_obj = (rural_cluster_centroid[1] + urban_cluster_centroid[1]) / 2\n",
        "    suggested_threshold_distance = (rural_cluster_centroid[2] + urban_cluster_centroid[2]) / 2\n",
        "\n",
        "    print(\"\\nSoglie suggerite basate sui centroidi dei cluster:\")\n",
        "    print(f\"  Densità: {suggested_threshold_density:.4f}\")\n",
        "    print(f\"  Numero di Oggetti: {suggested_threshold_num_obj:.4f}\")\n",
        "    print(f\"  Distanza Media tra gli Oggetti: {suggested_threshold_distance:.4f}\")\n",
        "\n",
        "    return suggested_threshold_density, suggested_threshold_num_obj, suggested_threshold_distance"
      ]
    },
    {
      "cell_type": "code",
      "execution_count": 32,
      "id": "WPk-9UA5iM_B",
      "metadata": {
        "colab": {
          "base_uri": "https://localhost:8080/"
        },
        "id": "WPk-9UA5iM_B",
        "outputId": "dfb0fcf0-8348-4e37-8a60-c9f5818273b2"
      },
      "outputs": [
        {
          "name": "stdout",
          "output_type": "stream",
          "text": [
            "Estrazione delle feature per K-Means da 3600 maschere...\n",
            "\n",
            "Centroidi dei cluster (feature originali):\n",
            "Cluster 0: Densità=0.0455, Numero Oggetti=4.8037, Distanza Media=73.1030\n",
            "Cluster 1: Densità=0.3074, Numero Oggetti=27.7742, Distanza Media=80.6793\n",
            "\n",
            "Cluster 'Rurale' (probabile): Densità=0.0455, Numero Oggetti=4.8037, Distanza Media=73.1030\n",
            "Cluster 'Urbano' (probabile): Densità=0.3074, Numero Oggetti=27.7742, Distanza Media=80.6793\n",
            "\n",
            "Soglie suggerite basate sui centroidi dei cluster:\n",
            "  Densità: 0.1764\n",
            "  Numero di Oggetti: 16.2890\n",
            "  Distanza Media tra gli Oggetti: 76.8911\n",
            "\n",
            "Aggiornamento delle soglie globali con i valori suggeriti:\n",
            "THRESHOLD_DENSITY = 0.1764\n",
            "THRESHOLD_NUM_OBJ = 16.2890\n",
            "THRESHOLD_DISTANCE = 76.8911\n"
          ]
        }
      ],
      "source": [
        "suggested_thresholds = find_thresholds_with_kmeans(PATH_TRAIN_DATASET_PROCESSED / \"gt\", sample_ratio=0.2)\n",
        "\n",
        "if suggested_thresholds:\n",
        "    THRESHOLD_DENSITY, THRESHOLD_NUM_OBJ, THRESHOLD_DISTANCE = suggested_thresholds\n",
        "    print(\"\\nAggiornamento delle soglie globali con i valori suggeriti:\")\n",
        "    print(f\"THRESHOLD_DENSITY = {THRESHOLD_DENSITY:.4f}\")\n",
        "    print(f\"THRESHOLD_NUM_OBJ = {THRESHOLD_NUM_OBJ:.4f}\")\n",
        "    print(f\"THRESHOLD_DISTANCE = {THRESHOLD_DISTANCE:.4f}\")"
      ]
    },
    {
      "cell_type": "markdown",
      "id": "50fec663",
      "metadata": {
        "id": "50fec663"
      },
      "source": [
        "## Classificazione del test set"
      ]
    },
    {
      "cell_type": "markdown",
      "id": "881f65f0",
      "metadata": {},
      "source": [
        "Nella prima sezione del notebook abbiamo determinato la variabile `THRESHOLD_UNET` che rappresenta la soglia ottimale per la segmentazione delle immagini prodotte dal modello U-Net.\n",
        "\n",
        "Nella seconda sezione, abbiamo utilizzato l'algoritmo K-means per identificare i cluster nei dati e abbiamo determinato le variabili:\n",
        "- `THRESHOLD_DENSITY`: soglia ottimale per la segmentazione delle immagini basata sulla densità di pixel bianchi e neri.\n",
        "- `THRESHOLD_NUM_OBJ`: soglia ottimale per la segmentazione delle immagini basata sul numero di oggetti rilevati dentro le maschere.\n",
        "- `THRESHOLD_DISTANCE`: soglia ottimale per la segmentazione delle immagini basata sulla distanza tra ogni oggetto rilevato nelle maschere.\n"
      ]
    },
    {
      "cell_type": "code",
      "execution_count": 33,
      "id": "bd550a2a",
      "metadata": {
        "id": "bd550a2a"
      },
      "outputs": [],
      "source": [
        "THRESHOLD_UNET = 0.6\n",
        "THRESHOLD_DENSITY = 0.1832\n",
        "THRESHOLD_NUM_OBJ = 16.6305\n",
        "THRESHOLD_DISTANCE = 79.0774"
      ]
    },
    {
      "cell_type": "markdown",
      "id": "870ad38c",
      "metadata": {},
      "source": [
        "Adesso possiamo utilizzare queste soglie per classificare le immagini in base alla loro segmentazione. Possiamo definire una funzione che prende un'immagine e restituisce la sua classe in base alle soglie definite.\n",
        "\n",
        "L'approccio usato per la classificazione prevede un metodo basato a pesi, in cui ogni soglia contribuisce a determinare la classe finale dell'immagine con un certo peso.\n"
      ]
    },
    {
      "cell_type": "code",
      "execution_count": null,
      "id": "96b2800c",
      "metadata": {
        "id": "96b2800c"
      },
      "outputs": [],
      "source": [
        "def euristic_classification(mask, th_density, th_num_obj, th_distance):\n",
        "    density, num_obj, avg_dist = feature_extraction(mask)\n",
        "\n",
        "    score = 0\n",
        "    if density > th_density: score += 2\n",
        "    if num_obj > th_num_obj: score += 1\n",
        "    if avg_dist < th_distance: score += 1\n",
        "\n",
        "    return \"urbano\" if score >= 2 else \"rurale\""
      ]
    },
    {
      "cell_type": "markdown",
      "id": "cd1473b7",
      "metadata": {
        "id": "cd1473b7"
      },
      "source": [
        "Finalmente, implementiamo la pipeline di classificazione delle immagini. Utilizzeremo le funzioni definite in precedenza per elaborare un insieme di maschere e ottenere le loro etichette di classe."
      ]
    },
    {
      "cell_type": "code",
      "execution_count": null,
      "id": "e1cf4537",
      "metadata": {},
      "outputs": [],
      "source": [
        "def classify_mask(raw_mask, model=loaded_model):\n",
        "    filtered_mask = segment_image_with_threshold(raw_mask, model, THRESHOLD_UNET)\n",
        "    return euristic_classification(filtered_mask, THRESHOLD_DENSITY, THRESHOLD_NUM_OBJ, THRESHOLD_DISTANCE)"
      ]
    },
    {
      "cell_type": "markdown",
      "id": "23169a1d",
      "metadata": {},
      "source": [
        "### Test della classificazione"
      ]
    },
    {
      "cell_type": "code",
      "execution_count": null,
      "id": "68a7a2fd",
      "metadata": {},
      "outputs": [],
      "source": []
    }
  ],
  "metadata": {
    "accelerator": "GPU",
    "colab": {
      "gpuType": "T4",
      "provenance": []
    },
    "kernelspec": {
      "display_name": "var_env",
      "language": "python",
      "name": "python3"
    },
    "language_info": {
      "codemirror_mode": {
        "name": "ipython",
        "version": 3
      },
      "file_extension": ".py",
      "mimetype": "text/x-python",
      "name": "python",
      "nbconvert_exporter": "python",
      "pygments_lexer": "ipython3",
      "version": "3.10.18"
    }
  },
  "nbformat": 4,
  "nbformat_minor": 5
}
